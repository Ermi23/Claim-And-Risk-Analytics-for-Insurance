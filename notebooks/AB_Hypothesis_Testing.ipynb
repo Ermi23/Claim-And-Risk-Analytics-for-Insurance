{
 "cells": [
  {
   "cell_type": "markdown",
   "metadata": {},
   "source": [
    "# AB Hypothesis Testing For the insurance data"
   ]
  },
  {
   "cell_type": "code",
   "execution_count": 1,
   "metadata": {},
   "outputs": [
    {
     "name": "stdout",
     "output_type": "stream",
     "text": [
      "c:\\Users\\ermias.tadesse\\10x\\Claim-And-Risk-Analytics-for-Insurance\\notebooks\n"
     ]
    }
   ],
   "source": [
    "import os\n",
    "print(os.getcwd())  # This prints the current working directory\n",
    "os.chdir(r'c:\\users\\ermias.tadesse\\10x\\Claim-And-Risk-Analytics-for-Insurance')  # Set the working directory to the project root\n",
    "# Import necessary libraries\n",
    "import pandas as pd\n",
    "from scripts.AB_Hypothesis_Testing import ABHypothesisTesting"
   ]
  },
  {
   "cell_type": "markdown",
   "metadata": {},
   "source": [
    "# Load the CSV file and Create a ABHypothesisTesting instance"
   ]
  },
  {
   "cell_type": "code",
   "execution_count": 5,
   "metadata": {},
   "outputs": [],
   "source": [
    "# Set the working directory to the folder containing your data\n",
    "os.chdir('c:\\\\users\\\\ermias.tadesse\\\\10x\\\\Claim-And-Risk-Analytics-for-Insurance\\\\data')\n",
    "# Load your dataset\n",
    "data = pd.read_csv('Final_Task-1_data.csv', low_memory=False)\n",
    "\n",
    "# Create an instance of the ABHypothesisTesting class\n",
    "ab_test = ABHypothesisTesting(data)"
   ]
  }
 ],
 "metadata": {
  "kernelspec": {
   "display_name": "venv",
   "language": "python",
   "name": "python3"
  },
  "language_info": {
   "codemirror_mode": {
    "name": "ipython",
    "version": 3
   },
   "file_extension": ".py",
   "mimetype": "text/x-python",
   "name": "python",
   "nbconvert_exporter": "python",
   "pygments_lexer": "ipython3",
   "version": "3.12.0"
  }
 },
 "nbformat": 4,
 "nbformat_minor": 2
}
