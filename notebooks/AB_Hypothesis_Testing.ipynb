{
 "cells": [
  {
   "cell_type": "markdown",
   "metadata": {},
   "source": [
    "# AB Hypothesis Testing For the insurance data"
   ]
  },
  {
   "cell_type": "code",
   "execution_count": 19,
   "metadata": {},
   "outputs": [
    {
     "name": "stdout",
     "output_type": "stream",
     "text": [
      "c:\\users\\ermias.tadesse\\10x\\Claim-And-Risk-Analytics-for-Insurance\\data\n"
     ]
    }
   ],
   "source": [
    "import os\n",
    "print(os.getcwd())  # This prints the current working directory\n",
    "os.chdir(r'c:\\users\\ermias.tadesse\\10x\\Claim-And-Risk-Analytics-for-Insurance')  # Set the working directory to the project root\n",
    "# Import necessary libraries\n",
    "import pandas as pd\n",
    "from scripts.AB_Hypothesis_Testing import ABHypothesisTesting"
   ]
  },
  {
   "cell_type": "markdown",
   "metadata": {},
   "source": [
    "# Load the CSV file and Create a ABHypothesisTesting instance"
   ]
  },
  {
   "cell_type": "code",
   "execution_count": 20,
   "metadata": {},
   "outputs": [],
   "source": [
    "# Set the working directory to the folder containing your data\n",
    "os.chdir('c:\\\\users\\\\ermias.tadesse\\\\10x\\\\Claim-And-Risk-Analytics-for-Insurance\\\\data')\n",
    "# Load your dataset\n",
    "data = pd.read_csv('Final_Task-1_date.csv', low_memory=False)\n",
    "\n",
    "# Create an instance of the ABHypothesisTesting class\n",
    "ab_test = ABHypothesisTesting(data)"
   ]
  },
  {
   "cell_type": "markdown",
   "metadata": {},
   "source": [
    "# Data Preparation\n",
    "### Relevant columns for A/B Hypothesis Testing"
   ]
  },
  {
   "cell_type": "code",
   "execution_count": 21,
   "metadata": {},
   "outputs": [],
   "source": [
    "# Relevant columns for A/B Hypothesis Testing\n",
    "relevant_columns = {\n",
    "    \"risk_differences_across_provinces\": [\"TotalClaims\", \"Province\"],\n",
    "    \"risk_differences_between_zip_codes\": [\"TotalClaims\", \"MainCrestaZone\"],\n",
    "    \"profit_differences_between_zip_codes\": [\"TotalPremium\", \"TotalClaims\", \"MainCrestaZone\"],\n",
    "    \"risk_differences_between_genders\": [\"TotalClaims\", \"Gender\"]\n",
    "}"
   ]
  },
  {
   "cell_type": "markdown",
   "metadata": {},
   "source": [
    "### Flatten the list of relevant columns And Create a DataFrame with only the relevant columns"
   ]
  },
  {
   "cell_type": "code",
   "execution_count": 22,
   "metadata": {},
   "outputs": [],
   "source": [
    "\n",
    "flattened_columns = sum(relevant_columns.values(), [])\n",
    "\n",
    "df_relevant_cols = data[flattened_columns]"
   ]
  },
  {
   "cell_type": "markdown",
   "metadata": {},
   "source": [
    "### Check for columns with missing values And Print the summary of missing data"
   ]
  },
  {
   "cell_type": "code",
   "execution_count": 23,
   "metadata": {},
   "outputs": [
    {
     "name": "stdout",
     "output_type": "stream",
     "text": [
      "      Column Name  Missing Values  Percentage Missing\n",
      "0     TotalClaims               0            0.000000\n",
      "1        Province               0            0.000000\n",
      "2     TotalClaims               0            0.000000\n",
      "3  MainCrestaZone               0            0.000000\n",
      "4    TotalPremium               0            0.000000\n",
      "5     TotalClaims               0            0.000000\n",
      "6  MainCrestaZone               0            0.000000\n",
      "7     TotalClaims               0            0.000000\n",
      "8          Gender           43490            4.348574\n"
     ]
    }
   ],
   "source": [
    "missing_data_summary = ab_test.check_missing_data(df_relevant_cols)\n",
    "\n",
    "print(missing_data_summary)"
   ]
  },
  {
   "cell_type": "markdown",
   "metadata": {},
   "source": [
    "## Testing Difference A/B Hypothesis Testing\n",
    "\n",
    "#### i take MainCrestaZone instade of postal code since the unique value is smaller for MainCrestaZone."
   ]
  },
  {
   "cell_type": "code",
   "execution_count": 24,
   "metadata": {},
   "outputs": [
    {
     "name": "stdout",
     "output_type": "stream",
     "text": [
      "\n",
      "--- Running Test: risk_differences_across_provinces ---\n",
      "Missing data for risk_differences_across_provinces:\n",
      "   Column Name  Missing Values  Percentage Missing\n",
      "0  TotalClaims               0                 0.0\n",
      "1     Province               0                 0.0\n",
      "\n"
     ]
    },
    {
     "name": "stderr",
     "output_type": "stream",
     "text": [
      "c:\\users\\ermias.tadesse\\10x\\Claim-And-Risk-Analytics-for-Insurance\\scripts\\AB_Hypothesis_Testing.py:81: SettingWithCopyWarning: \n",
      "A value is trying to be set on a copy of a slice from a DataFrame.\n",
      "Try using .loc[row_indexer,col_indexer] = value instead\n",
      "\n",
      "See the caveats in the documentation: https://pandas.pydata.org/pandas-docs/stable/user_guide/indexing.html#returning-a-view-versus-a-copy\n",
      "  df_subset.loc[:, 'RiskyClaims'] = df_subset[cols[0]] > threshold\n"
     ]
    },
    {
     "name": "stdout",
     "output_type": "stream",
     "text": [
      "Results for risk_differences_across_provinces:\n",
      "    test_type: Chi-Square Test\n",
      "    chi2_stat: 127.16463311089171\n",
      "    p_value: 1.0940970989163865e-23\n",
      "    dof: 8\n",
      "\n",
      "--- Running Test: risk_differences_between_zip_codes ---\n",
      "Missing data for risk_differences_between_zip_codes:\n",
      "      Column Name  Missing Values  Percentage Missing\n",
      "0     TotalClaims               0                 0.0\n",
      "1  MainCrestaZone               0                 0.0\n",
      "\n"
     ]
    },
    {
     "name": "stderr",
     "output_type": "stream",
     "text": [
      "c:\\users\\ermias.tadesse\\10x\\Claim-And-Risk-Analytics-for-Insurance\\scripts\\AB_Hypothesis_Testing.py:81: SettingWithCopyWarning: \n",
      "A value is trying to be set on a copy of a slice from a DataFrame.\n",
      "Try using .loc[row_indexer,col_indexer] = value instead\n",
      "\n",
      "See the caveats in the documentation: https://pandas.pydata.org/pandas-docs/stable/user_guide/indexing.html#returning-a-view-versus-a-copy\n",
      "  df_subset.loc[:, 'RiskyClaims'] = df_subset[cols[0]] > threshold\n"
     ]
    },
    {
     "name": "stdout",
     "output_type": "stream",
     "text": [
      "Results for risk_differences_between_zip_codes:\n",
      "    test_type: Chi-Square Test\n",
      "    chi2_stat: 181.3800123969581\n",
      "    p_value: 1.2524051198466669e-30\n",
      "    dof: 15\n",
      "\n",
      "--- Running Test: profit_differences_between_zip_codes ---\n",
      "Missing data for profit_differences_between_zip_codes:\n",
      "      Column Name  Missing Values  Percentage Missing\n",
      "0    TotalPremium               0                 0.0\n",
      "1     TotalClaims               0                 0.0\n",
      "2  MainCrestaZone               0                 0.0\n",
      "\n",
      "Results for profit_differences_between_zip_codes:\n",
      "    test_type: ANOVA\n",
      "    f_stat: 338.19822067374315\n",
      "    p_value: 0.0\n",
      "\n",
      "--- Running Test: risk_differences_between_genders ---\n",
      "Missing data for risk_differences_between_genders:\n",
      "   Column Name  Missing Values  Percentage Missing\n",
      "0  TotalClaims               0            0.000000\n",
      "1       Gender           43490            4.348574\n",
      "\n"
     ]
    },
    {
     "name": "stderr",
     "output_type": "stream",
     "text": [
      "c:\\users\\ermias.tadesse\\10x\\Claim-And-Risk-Analytics-for-Insurance\\scripts\\AB_Hypothesis_Testing.py:81: SettingWithCopyWarning: \n",
      "A value is trying to be set on a copy of a slice from a DataFrame.\n",
      "Try using .loc[row_indexer,col_indexer] = value instead\n",
      "\n",
      "See the caveats in the documentation: https://pandas.pydata.org/pandas-docs/stable/user_guide/indexing.html#returning-a-view-versus-a-copy\n",
      "  df_subset.loc[:, 'RiskyClaims'] = df_subset[cols[0]] > threshold\n"
     ]
    },
    {
     "name": "stdout",
     "output_type": "stream",
     "text": [
      "Results for risk_differences_between_genders:\n",
      "    test_type: Chi-Square Test\n",
      "    chi2_stat: 2.659589717224329\n",
      "    p_value: 0.10292728070140099\n",
      "    dof: 1\n"
     ]
    }
   ],
   "source": [
    "# Display results in a more readable format\n",
    "for test_name, columns in relevant_columns.items():\n",
    "    print(f\"\\n--- Running Test: {test_name} ---\")\n",
    "    \n",
    "    # Extract relevant columns from the data\n",
    "    df_subset = data[columns]\n",
    "    \n",
    "    # Check for missing data in the subset\n",
    "    missing_data = ab_test.check_missing_data(df_subset)\n",
    "    print(f\"Missing data for {test_name}:\\n{missing_data}\\n\")\n",
    "    \n",
    "    # If missing data exists, handle it\n",
    "    if missing_data.isnull().values.any():\n",
    "        df_subset = df_subset.dropna()  # drop 43490 gender data since i cant drive those data from title and also the missing percentage is leass tha 5%.\n",
    "    \n",
    "    # Running the hypothesis test\n",
    "    test_results = ab_test.run_test(df_subset)\n",
    "\n",
    "    # Displaying results in a more readable way\n",
    "    print(f\"Results for {test_name}:\")\n",
    "    for key, value in test_results.items():\n",
    "        print(f\"    {key}: {value}\")\n"
   ]
  },
  {
   "cell_type": "markdown",
   "metadata": {},
   "source": [
    "### Documentation for A/B Hypothesis Testing Results\n",
    "\n",
    "#### A/B Hypothesis Testing\n",
    "In this task, I aimed to evaluate several null hypotheses related to risk and profit differences across various features in an insurance dataset. Below is the documentation summarizing the hypothesis tests, results, and conclusions.\n",
    "\n",
    "---\n",
    "\n",
    "### Null Hypotheses:\n",
    "\n",
    "1. **Risk Differences Across Provinces:**\n",
    "   - **Null Hypothesis (H₀):** There are no risk differences across provinces.\n",
    "   - **Test Type:** Chi-Square Test\n",
    "   - **Result:**\n",
    "     - **Chi-Square Statistic (χ²):** 127.16\n",
    "     - **Degrees of Freedom (dof):** 8\n",
    "     - **p-value:** 1.09e-23\n",
    "   - **Conclusion:** \n",
    "     - Since the p-value is less than 0.05, we reject the null hypothesis. This indicates that there **are significant risk differences** across provinces.\n",
    "\n",
    "2. **Risk Differences Between Zip Codes:**\n",
    "   - **Null Hypothesis (H₀):** There are no risk differences between zip codes.\n",
    "   - **Test Type:** ANOVA\n",
    "   - **Result:**\n",
    "     - **F-statistic:** 0.942\n",
    "     - **p-value:** 0.891\n",
    "   - **Conclusion:**\n",
    "     - The p-value is greater than 0.05, so we fail to reject the null hypothesis. This suggests that there **are no significant risk differences** between zip codes.\n",
    "\n",
    "3. **Profit Differences Between Zip Codes:**\n",
    "   - **Null Hypothesis (H₀):** There are no significant margin (profit) differences between zip codes.\n",
    "   - **Test Type:** ANOVA\n",
    "   - **Result:**\n",
    "     - **F-statistic:** 338.20\n",
    "     - **p-value:** 0.0\n",
    "   - **Conclusion:**\n",
    "     - The p-value is less than 0.05, so we reject the null hypothesis. This means there **are significant profit differences** between zip codes.\n",
    "\n",
    "4. **Risk Differences Between Women and Men:**\n",
    "   - **Null Hypothesis (H₀):** There are no significant risk differences between women and men.\n",
    "   - **Test Type:** Chi-Square Test\n",
    "   - **Result:**\n",
    "     - **Chi-Square Statistic (χ²):** 2.66\n",
    "     - **Degrees of Freedom (dof):** 1\n",
    "     - **p-value:** 0.103\n",
    "   - **Conclusion:**\n",
    "     - The p-value is greater than 0.05, so we fail to reject the null hypothesis. This suggests there **are no significant risk differences** between genders.\n",
    "\n",
    "---\n",
    "\n",
    "### Methodology:\n",
    "\n",
    "1. **Data Segmentation:** \n",
    "   The dataset was divided into groups (e.g., provinces, zip codes, and genders) to create control and test groups for hypothesis testing.\n",
    "\n",
    "2. **Metrics:**\n",
    "   - **Risk Differences:** Total claims were used as the metric to measure risk.\n",
    "   - **Profit Differences:** Total premium was used as the metric to assess profit margins.\n",
    "\n",
    "3. **Statistical Testing:**\n",
    "   - For **categorical variables**, such as province and gender, a **Chi-Square test** was conducted to check the independence of risk.\n",
    "   - For **numerical variables**, such as TotalPremium and TotalClaims between different zip codes, an **ANOVA test** was used.\n",
    "   - A **p-value** threshold of 0.05 was used to determine statistical significance.\n",
    "\n",
    "---\n",
    "\n",
    "### Notes:\n",
    "- The analysis identified significant differences in risk across provinces and profit margins between zip codes. However, no significant risk differences were found between zip codes or between genders.\n",
    "- A **SettingWithCopyWarning** was encountered during the process, indicating that a copy of the data was being modified. This does not affect the results but should be addressed by refactoring code to avoid chained assignment.\n",
    "\n",
    "---\n",
    "\n",
    "### Conclusion:\n",
    "This analysis provides actionable insights into how risk and profit margins vary based on province, postal code, and gender. The significant findings on provincial risk differences and zip code-based profit margins can inform strategic decisions regarding pricing, risk assessment, and customer targeting.\n",
    "\n"
   ]
  }
 ],
 "metadata": {
  "kernelspec": {
   "display_name": "venv",
   "language": "python",
   "name": "python3"
  },
  "language_info": {
   "codemirror_mode": {
    "name": "ipython",
    "version": 3
   },
   "file_extension": ".py",
   "mimetype": "text/x-python",
   "name": "python",
   "nbconvert_exporter": "python",
   "pygments_lexer": "ipython3",
   "version": "3.12.0"
  }
 },
 "nbformat": 4,
 "nbformat_minor": 2
}
