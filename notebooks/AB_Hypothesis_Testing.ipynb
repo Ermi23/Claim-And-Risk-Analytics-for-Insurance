{
 "cells": [
  {
   "cell_type": "markdown",
   "metadata": {},
   "source": [
    "# AB Hypothesis Testing For the insurance data"
   ]
  },
  {
   "cell_type": "code",
   "execution_count": 8,
   "metadata": {},
   "outputs": [
    {
     "name": "stdout",
     "output_type": "stream",
     "text": [
      "c:\\users\\ermias.tadesse\\10x\\Claim-And-Risk-Analytics-for-Insurance\\data\n"
     ]
    }
   ],
   "source": [
    "import os\n",
    "print(os.getcwd())  # This prints the current working directory\n",
    "os.chdir(r'c:\\users\\ermias.tadesse\\10x\\Claim-And-Risk-Analytics-for-Insurance')  # Set the working directory to the project root\n",
    "# Import necessary libraries\n",
    "import pandas as pd\n",
    "from scripts.AB_Hypothesis_Testing import ABHypothesisTesting"
   ]
  },
  {
   "cell_type": "markdown",
   "metadata": {},
   "source": [
    "# Load the CSV file and Create a ABHypothesisTesting instance"
   ]
  },
  {
   "cell_type": "code",
   "execution_count": 9,
   "metadata": {},
   "outputs": [],
   "source": [
    "# Set the working directory to the folder containing your data\n",
    "os.chdir('c:\\\\users\\\\ermias.tadesse\\\\10x\\\\Claim-And-Risk-Analytics-for-Insurance\\\\data')\n",
    "# Load your dataset\n",
    "data = pd.read_csv('Final_Task-1_data.csv', low_memory=False)\n",
    "\n",
    "# Create an instance of the ABHypothesisTesting class\n",
    "ab_test = ABHypothesisTesting(data)"
   ]
  },
  {
   "cell_type": "markdown",
   "metadata": {},
   "source": [
    "# Data Preparation\n",
    "### Relevant columns for A/B Hypothesis Testing"
   ]
  },
  {
   "cell_type": "code",
   "execution_count": 10,
   "metadata": {},
   "outputs": [],
   "source": [
    "# Relevant columns for A/B Hypothesis Testing\n",
    "relevant_columns = {\n",
    "    \"risk_differences_across_provinces\": [\"TotalClaims\", \"Province\"],\n",
    "    \"risk_differences_between_zip_codes\": [\"TotalClaims\", \"PostalCode\"],\n",
    "    \"profit_differences_between_zip_codes\": [\"TotalPremium\", \"TotalClaims\", \"PostalCode\"],\n",
    "    \"risk_differences_between_genders\": [\"TotalClaims\", \"Gender\"]\n",
    "}"
   ]
  },
  {
   "cell_type": "markdown",
   "metadata": {},
   "source": [
    "### Flatten the list of relevant columns And Create a DataFrame with only the relevant columns"
   ]
  },
  {
   "cell_type": "code",
   "execution_count": 11,
   "metadata": {},
   "outputs": [],
   "source": [
    "\n",
    "flattened_columns = sum(relevant_columns.values(), [])\n",
    "\n",
    "df_relevant_cols = data[flattened_columns]"
   ]
  },
  {
   "cell_type": "markdown",
   "metadata": {},
   "source": [
    "### Check for columns with missing values And Print the summary of missing data"
   ]
  },
  {
   "cell_type": "code",
   "execution_count": 12,
   "metadata": {},
   "outputs": [
    {
     "name": "stdout",
     "output_type": "stream",
     "text": [
      "    Column Name  Missing Values  Percentage Missing\n",
      "0   TotalClaims               0            0.000000\n",
      "1      Province               0            0.000000\n",
      "2   TotalClaims               0            0.000000\n",
      "3    PostalCode               0            0.000000\n",
      "4  TotalPremium               0            0.000000\n",
      "5   TotalClaims               0            0.000000\n",
      "6    PostalCode               0            0.000000\n",
      "7   TotalClaims               0            0.000000\n",
      "8        Gender           43490            4.348574\n"
     ]
    }
   ],
   "source": [
    "missing_data_summary = ab_test.check_missing_data(df_relevant_cols)\n",
    "\n",
    "print(missing_data_summary)"
   ]
  },
  {
   "cell_type": "markdown",
   "metadata": {},
   "source": [
    "## Testing Difference A/B Hypothesis Testing"
   ]
  },
  {
   "cell_type": "code",
   "execution_count": 13,
   "metadata": {},
   "outputs": [
    {
     "name": "stdout",
     "output_type": "stream",
     "text": [
      "\n",
      "--- Running Test: risk_differences_across_provinces ---\n",
      "Missing data for risk_differences_across_provinces:\n",
      "   Column Name  Missing Values  Percentage Missing\n",
      "0  TotalClaims               0                 0.0\n",
      "1     Province               0                 0.0\n",
      "\n",
      "Results for risk_differences_across_provinces:\n",
      "    test_type: Chi-Square Test\n",
      "    chi2_stat: 127.16463311089171\n",
      "    p_value: 1.0940970989163865e-23\n",
      "    dof: 8\n",
      "\n",
      "--- Running Test: risk_differences_between_zip_codes ---\n",
      "Missing data for risk_differences_between_zip_codes:\n",
      "   Column Name  Missing Values  Percentage Missing\n",
      "0  TotalClaims               0                 0.0\n",
      "1   PostalCode               0                 0.0\n",
      "\n"
     ]
    },
    {
     "name": "stderr",
     "output_type": "stream",
     "text": [
      "c:\\users\\ermias.tadesse\\10x\\Claim-And-Risk-Analytics-for-Insurance\\scripts\\AB_Hypothesis_Testing.py:50: SettingWithCopyWarning: \n",
      "A value is trying to be set on a copy of a slice from a DataFrame.\n",
      "Try using .loc[row_indexer,col_indexer] = value instead\n",
      "\n",
      "See the caveats in the documentation: https://pandas.pydata.org/pandas-docs/stable/user_guide/indexing.html#returning-a-view-versus-a-copy\n",
      "  df_subset.loc[:, 'RiskyClaims'] = df_subset[cols[0]] > threshold\n"
     ]
    },
    {
     "name": "stdout",
     "output_type": "stream",
     "text": [
      "Results for risk_differences_between_zip_codes:\n",
      "    test_type: ANOVA\n",
      "    f_stat: 0.9419762214391849\n",
      "    p_value: 0.8906511279164051\n",
      "\n",
      "--- Running Test: profit_differences_between_zip_codes ---\n",
      "Missing data for profit_differences_between_zip_codes:\n",
      "    Column Name  Missing Values  Percentage Missing\n",
      "0  TotalPremium               0                 0.0\n",
      "1   TotalClaims               0                 0.0\n",
      "2    PostalCode               0                 0.0\n",
      "\n",
      "Results for profit_differences_between_zip_codes:\n",
      "    test_type: ANOVA\n",
      "    f_stat: 338.19822067374315\n",
      "    p_value: 0.0\n",
      "\n",
      "--- Running Test: risk_differences_between_genders ---\n",
      "Missing data for risk_differences_between_genders:\n",
      "   Column Name  Missing Values  Percentage Missing\n",
      "0  TotalClaims               0            0.000000\n",
      "1       Gender           43490            4.348574\n",
      "\n",
      "Results for risk_differences_between_genders:\n",
      "    test_type: Chi-Square Test\n",
      "    chi2_stat: 2.659589717224329\n",
      "    p_value: 0.10292728070140099\n",
      "    dof: 1\n"
     ]
    },
    {
     "name": "stderr",
     "output_type": "stream",
     "text": [
      "c:\\users\\ermias.tadesse\\10x\\Claim-And-Risk-Analytics-for-Insurance\\scripts\\AB_Hypothesis_Testing.py:50: SettingWithCopyWarning: \n",
      "A value is trying to be set on a copy of a slice from a DataFrame.\n",
      "Try using .loc[row_indexer,col_indexer] = value instead\n",
      "\n",
      "See the caveats in the documentation: https://pandas.pydata.org/pandas-docs/stable/user_guide/indexing.html#returning-a-view-versus-a-copy\n",
      "  df_subset.loc[:, 'RiskyClaims'] = df_subset[cols[0]] > threshold\n"
     ]
    }
   ],
   "source": [
    "# Display results in a more readable format\n",
    "for test_name, columns in relevant_columns.items():\n",
    "    print(f\"\\n--- Running Test: {test_name} ---\")\n",
    "    \n",
    "    # Extract relevant columns from the data\n",
    "    df_subset = data[columns]\n",
    "    \n",
    "    # Check for missing data in the subset\n",
    "    missing_data = ab_test.check_missing_data(df_subset)\n",
    "    print(f\"Missing data for {test_name}:\\n{missing_data}\\n\")\n",
    "    \n",
    "    # If missing data exists, handle it (e.g., drop NaN rows)\n",
    "    if missing_data.isnull().values.any():\n",
    "        df_subset = df_subset.dropna()  # You can replace this with a fill method if needed\n",
    "    \n",
    "    # Running the hypothesis test\n",
    "    test_results = ab_test.run_test(df_subset)\n",
    "\n",
    "    # Displaying results in a more readable way\n",
    "    print(f\"Results for {test_name}:\")\n",
    "    for key, value in test_results.items():\n",
    "        print(f\"    {key}: {value}\")\n"
   ]
  }
 ],
 "metadata": {
  "kernelspec": {
   "display_name": "venv",
   "language": "python",
   "name": "python3"
  },
  "language_info": {
   "codemirror_mode": {
    "name": "ipython",
    "version": 3
   },
   "file_extension": ".py",
   "mimetype": "text/x-python",
   "name": "python",
   "nbconvert_exporter": "python",
   "pygments_lexer": "ipython3",
   "version": "3.12.0"
  }
 },
 "nbformat": 4,
 "nbformat_minor": 2
}
